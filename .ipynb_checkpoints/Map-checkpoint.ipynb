{
 "cells": [
  {
   "cell_type": "code",
   "execution_count": null,
   "metadata": {
    "collapsed": true
   },
   "outputs": [],
   "source": [
    "import json\n",
    "\n",
    "real_tweets = []\n",
    "with open('AtletiFCB.json', 'r') as f:\n",
    "    for line in f:\n",
    "        line = line.strip()\n",
    "        # select the lines with 'text' attribute, which is a tweet not limition information\n",
    "        if line and 'text' in line:\n",
    "            tweet = json.loads(line)\n",
    "            real_tweets.append(tweet)\n",
    "# write the data into tweets.json in a json format\n",
    "with open(\"tweets.json\", \"w\") as fout:\n",
    "    s = json.dumps(real_tweets)\n",
    "    fout.write(s)"
   ]
  }
 ],
 "metadata": {
  "kernelspec": {
   "display_name": "Python 3",
   "language": "python",
   "name": "python3"
  },
  "language_info": {
   "codemirror_mode": {
    "name": "ipython",
    "version": 3
   },
   "file_extension": ".py",
   "mimetype": "text/x-python",
   "name": "python",
   "nbconvert_exporter": "python",
   "pygments_lexer": "ipython3",
   "version": "3.5.1"
  }
 },
 "nbformat": 4,
 "nbformat_minor": 0
}
