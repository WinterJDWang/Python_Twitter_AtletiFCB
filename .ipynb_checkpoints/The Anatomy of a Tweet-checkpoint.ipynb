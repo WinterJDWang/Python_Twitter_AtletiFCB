{
 "cells": [
  {
   "cell_type": "code",
   "execution_count": 3,
   "metadata": {
    "collapsed": false
   },
   "outputs": [
    {
     "name": "stdout",
     "output_type": "stream",
     "text": [
      "[('¡', 90379), ('#AtletiFCB', 76970), ('RT', 50479), ('#UCL', 23355), ('0', 22374), ('2', 17769), ('…', 16879), ('@Atleti', 16847), ('#AúpaAtleti', 14923), ('1', 13887), ('ça', 9126), ('@AntoGriezmann', 8116), ('@FCBarcelona', 7174), ('VAMOS', 6957), ('Bar', 6892), ('#FCBlive', 6836), ('😂', 5900), ('Griezmann', 5800), ('ético', 5040), ('ón', 4486), ('Atl', 4432), ('35', 4286), ('FINAL', 4285), ('cabeza', 4166), ('SE', 4055), ('est', 4038), ('semifinales', 4015), ('95', 3951), ('é', 3945), ('ó', 3943), ('Ó', 3880), ('EQUIPO', 3835), ('GOOOL', 3832), ('GOOOOOOLL', 3831), ('https://t.co/NBQOYrjLFc', 3817), ('Estamos', 3698), ('ACAB', 3681), ('https://t.co/9ox2', 3670), ('87', 3320), ('penalti', 3301), ('pour', 3278), ('7', 3200), ('à', 3187), ('Calder', 3130), ('El', 3124), ('Barcelona', 3016), ('GOOOOOOOL', 2850), ('Marc', 2836), ('pas', 2834), ('https://t.co/Q1D0J56yeq', 2821), ('Madrid', 2664), ('qui', 2587), ('Messi', 2479), ('Vamos', 2436), ('ne', 2342), ('agg', 2189), ('3', 2169), ('Barca', 2153), ('0,', 2142), ('et', 2098), ('il', 1962), ('#Atleti', 1940), (\"c'est\", 1886), ('du', 1881), ('Luis', 1872), ('@WinamaxSport', 1860), ('Iniesta', 1821), ('gol', 1801), ('⚽', 1771), ('Atletico', 1728), ('éliminé', 1722), ('PSG', 1702), ('#FCBLive', 1667), ('@atletienglish', 1665), ('Suárez', 1645), ('️', 1621), ('Neymar', 1564), ('match', 1539), ('rien', 1513), ('Le', 1493), ('change', 1456), ('ce', 1455), ('equipo', 1430), ('plus', 1344), ('👏', 1322), ('game', 1319), ('https://t.', 1313), ('toujours', 1300), ('header', 1298), ('Simeone', 1279), ('half', 1241), ('DE', 1234), ('je', 1230), ('Atleti', 1214), ('Ce', 1198), ('😭', 1191), ('La', 1151), ('á', 1137), ('Así', 1135), ('#GoAtleti', 1130)]\n",
      "82823\n"
     ]
    }
   ],
   "source": [
    "import json\n",
    "from nltk.tokenize import word_tokenize\n",
    "from nltk.corpus import stopwords\n",
    "from nltk import bigrams \n",
    "import re\n",
    "import string\n",
    "from collections import Counter\n",
    " \n",
    "emoticons_str = r\"\"\"\n",
    "    (?:\n",
    "        [:=;] # Eyes\n",
    "        [oO\\-]? # Nose (optional)\n",
    "        [D\\)\\]\\(\\]/\\\\OpP] # Mouth\n",
    "    )\"\"\"\n",
    " \n",
    "regex_str = [\n",
    "    emoticons_str,\n",
    "    r'<[^>]+>', # HTML tags\n",
    "    r'(?:@[\\w_]+)', # @-mentions\n",
    "    r\"(?:\\#+[\\w_]+[\\w\\'_\\-]*[\\w_]+)\", # hash-tags\n",
    "    r'http[s]?://(?:[a-z]|[0-9]|[$-_@.&+]|[!*\\(\\),]|(?:%[0-9a-f][0-9a-f]))+', # URLs\n",
    " \n",
    "    r'(?:(?:\\d+,?)+(?:\\.?\\d+)?)', # numbers\n",
    "    r\"(?:[a-z][a-z'\\-_]+[a-z])\", # words with - and '\n",
    "    r'(?:[\\w_]+)', # other words\n",
    "    r'(?:\\S)' # anything else\n",
    "]\n",
    "    \n",
    "tokens_re = re.compile(r'('+'|'.join(regex_str)+')', re.VERBOSE | re.IGNORECASE)\n",
    "emoticon_re = re.compile(r'^'+emoticons_str+'$', re.VERBOSE | re.IGNORECASE)\n",
    " \n",
    "def tokenize(s):\n",
    "    return tokens_re.findall(s)\n",
    " \n",
    "def preprocess(s, lowercase=False):\n",
    "    tokens = tokenize(s)\n",
    "    if lowercase:\n",
    "        tokens = [token if emoticon_re.search(token) else token.lower() for token in tokens]\n",
    "    return tokens\n",
    "\n",
    "\n",
    "# i = 0\n",
    "\n",
    "# with open('python.json', 'r')as f:\n",
    "#     for line in f:\n",
    "#         line = line.strip()\n",
    "#         if line:\n",
    "#             tweet = json.loads(line)\n",
    "#             tweet_text = tweet['text']\n",
    "#             tokens = preprocess(tweet_text)\n",
    "\n",
    "#             print(i)\n",
    "#             i += 1\n",
    "#             print(tweet_text)\n",
    "#             print(word_tokenize(tweet_text))\n",
    "#             print(tokens)\n",
    "\n",
    "punctuation = list(string.punctuation)\n",
    "stop = stopwords.words('english') + stopwords.words('spanish') + punctuation + ['rt', 'via']\n",
    "\n",
    "\n",
    "i = 0\n",
    "\n",
    "with open('AtletiFCB.json', 'r') as f:\n",
    "    count_all = Counter()\n",
    "    for line in f:\n",
    "        line = line.strip()\n",
    "        if line:\n",
    "            i += 1\n",
    "            tweet = json.loads(line)\n",
    "            if 'text' in tweet:\n",
    "                tweet_text = tweet['text']\n",
    "                tokens = preprocess(tweet_text)\n",
    "                # Create a list with all the terms without stop words\n",
    "                terms_all = [term for term in tokens if term not in stop]\n",
    "#                 put things in context by bigrams\n",
    "#                 terms_bigram = bigrams(terms_all)\n",
    "            # Update the counter\n",
    "                count_all.update(terms_all)\n",
    "    # Print the first 5 most frequent words\n",
    "    print(count_all.most_common(100))\n",
    "    print(i)\n"
   ]
  },
  {
   "cell_type": "code",
   "execution_count": 70,
   "metadata": {
    "collapsed": false
   },
   "outputs": [
    {
     "name": "stdout",
     "output_type": "stream",
     "text": [
      "[('¡', 90379), ('RT', 50479), ('…', 16879), ('ça', 9126), ('VAMOS', 6957), ('Bar', 6892), ('😂', 5900), ('Griezmann', 5800), ('ético', 5040), ('ón', 4486), ('Atl', 4432), ('35', 4286), ('FINAL', 4285), ('cabeza', 4166), ('SE', 4055), ('est', 4038), ('semifinales', 4015), ('95', 3951), ('é', 3945), ('ó', 3943), ('Ó', 3880), ('EQUIPO', 3835), ('GOOOL', 3832), ('GOOOOOOLL', 3831), ('https://t.co/NBQOYrjLFc', 3817), ('Estamos', 3698), ('ACAB', 3681), ('https://t.co/9ox2', 3670), ('87', 3320), ('penalti', 3301), ('pour', 3278), ('à', 3187), ('Calder', 3130), ('El', 3124), ('Barcelona', 3016), ('GOOOOOOOL', 2850), ('Marc', 2836), ('pas', 2834), ('https://t.co/Q1D0J56yeq', 2821), ('Madrid', 2664), ('qui', 2587), ('Messi', 2479), ('Vamos', 2436), ('ne', 2342), ('agg', 2189), ('Barca', 2153), ('0,', 2142), ('et', 2098), ('il', 1962), (\"c'est\", 1886), ('du', 1881), ('Luis', 1872), ('Iniesta', 1821), ('gol', 1801), ('⚽', 1771), ('Atletico', 1728), ('éliminé', 1722), ('PSG', 1702), ('Suárez', 1645), ('️', 1621), ('Neymar', 1564), ('match', 1539), ('rien', 1513), ('Le', 1493), ('change', 1456), ('ce', 1455), ('equipo', 1430), ('plus', 1344), ('👏', 1322), ('game', 1319), ('https://t.', 1313), ('toujours', 1300), ('header', 1298), ('Simeone', 1279), ('half', 1241), ('DE', 1234), ('je', 1230), ('Atleti', 1214), ('Ce', 1198), ('😭', 1191), ('La', 1151), ('á', 1137), ('Así', 1135), ('https', 1127), ('parte', 1085), ('go', 1082), ('🔴', 1075), ('A', 1075), ('partido', 1028), ('📈', 1022), ('va', 1015), ('😍', 989), ('bien', 979), ('’', 978), ('vs', 977), ('TIME', 952), ('36', 951), ('The', 948), ('Suarez', 941), ('quoi', 929)]\n",
      "248469\n"
     ]
    }
   ],
   "source": [
    "stop += string.digits\n",
    "\n",
    "with open('AtletiFCB.json', 'r') as f:\n",
    "    count_all = Counter()\n",
    "    for line in f:\n",
    "        line = line.strip()\n",
    "        if line:\n",
    "            i += 1\n",
    "            tweet = json.loads(line)\n",
    "            if 'text' in tweet:\n",
    "                tweet_text = tweet['text']\n",
    "                tokens = preprocess(tweet_text)\n",
    "                # Create a list with all the terms without stop words\n",
    "                terms_all = [term for term in tokens if term not in stop]\n",
    "                # Count terms only (no hashtags, no mentions)\n",
    "                terms_only = [term for term in terms_all if  not term.startswith(('#', '@'))]\n",
    "                \n",
    "            # Update the counter\n",
    "                count_all.update(terms_only)\n",
    "    # Print the first 5 most frequent words\n",
    "    print(count_all.most_common(100))\n",
    "    print(i)"
   ]
  },
  {
   "cell_type": "code",
   "execution_count": null,
   "metadata": {
    "collapsed": false
   },
   "outputs": [],
   "source": [
    "import pandas\n",
    " \n",
    "# still need to tell IPython to display plots within the notebook\n",
    "%matplotlib inline\n",
    "# this is not strictly necessary, it just improves the style of the Matplotlib plots\n",
    "import matplotlib\n",
    "matplotlib.style.use(\"ggplot\")\n",
    "\n",
    "timestamp= []\n",
    "# a list of \"1\" or \"0\"to count the tweets\n",
    "timestamp_AtletiFCB = []\n",
    "timestamp_Atleti = []\n",
    "timestamp_FCB = []\n",
    "\n",
    "with open('AtletiFCB.json', 'r') as f:\n",
    "    for line in f:\n",
    "        line = line.strip()\n",
    "        if line:\n",
    "            tweet = json.loads(line)\n",
    "            if 'text' in tweet:\n",
    "                tweet_text = tweet['text']\n",
    "                tweet_time = tweet['created_at']\n",
    "                tokens = preprocess(tweet_text)\n",
    "                terms_all = [term for term in tokens if term not in stop]\n",
    "                \n",
    "                timestamp.append(tweet_time)\n",
    "                timestamp_AtletiFCB.append(1)\n",
    "                \n",
    "                if '@Atleti' in terms_all:\n",
    "                    timestamp_Atleti.append(1)\n",
    "                else: \n",
    "                    timestamp_Atleti.append(0)\n",
    "                    \n",
    "                if '@FCBarcelona' in terms_all:\n",
    "                    timestamp_FCB.append(1)\n",
    "                else:\n",
    "                    timestamp_FCB.append(0)\n",
    "                \n",
    "\n",
    "# the index of the DataFrame\n",
    "idx_AtletiFCB = pandas.DatetimeIndex(timestamp)\n",
    "\n",
    "all_data = dict(Atlet=timestamp_Atleti,AtletiFCB=timestamp_AtletiFCB,FCB=timestamp_FCB)\n",
    "\n",
    "AtletiFCB = pandas.DataFrame(data=all_data,\n",
    "                               index=idx_AtletiFCB)\n",
    "#  Resampling\n",
    "AtletiFCB =  AtletiFCB.resample('1Min', how='sum').fillna(0)\n",
    "p = AtletiFCB.plot(title=\"Number of tweets during the game\",figsize=(10,5))\n",
    "\n",
    "\n",
    "\n",
    "\n",
    "# idx_Atleti = pandas.DatetimeIndex(timestamp_Atleti)\n",
    "# # the actual series (at series of 1s for the moment)\n",
    "# Atleti = pandas.Series(ones, index=idx_Atleti)\n",
    "\n",
    "# idx_FCB = pandas.DatetimeIndex(timestamp_FCB)\n",
    "# # the actual series (at series of 1s for the moment)\n",
    "# FCB = pandas.Series(ones, index=idx_FCB)\n",
    "\n",
    "# # all the data together\n",
    "# match_data = dict(timestamp_AtletiFCB=idx_AtletiFCB, timestamp_Atleti=idx_Atleti, timestamp_FCB=idx_FCB)\n",
    "# # we need a DataFrame, to accommodate multiple series\n",
    "# all_matches = pandas.DataFrame(data=match_data,\n",
    "#                                index=idx_AtletiFCB.index)\n",
    "# # Resampling as above\n",
    "# all_matches = all_matches.resample('1Min', how='sum').fillna(0)\n",
    " \n",
    "\n",
    "\n",
    "\n",
    "\n",
    "\n",
    "\n",
    "\n",
    "# p = all_matches.plot(title=\"Number of tweets during the game\",figsize=(10,5))\n",
    "\n",
    "\n",
    "\n",
    "\n",
    "\n"
   ]
  },
  {
   "cell_type": "code",
   "execution_count": null,
   "metadata": {
    "collapsed": false
   },
   "outputs": [],
   "source": [
    "\n"
   ]
  },
  {
   "cell_type": "code",
   "execution_count": 131,
   "metadata": {
    "collapsed": false
   },
   "outputs": [
    {
     "name": "stdout",
     "output_type": "stream",
     "text": [
      "[('#AtletiFCB', 76970), ('#UCL', 23355), ('@Atleti', 16847), ('#AúpaAtleti', 14923), ('@AntoGriezmann', 8116), ('@FCBarcelona', 7174), ('#FCBlive', 6836), ('#Atleti', 1940), ('@WinamaxSport', 1860), ('#FCBLive', 1667)]\n"
     ]
    },
    {
     "data": {
      "image/png": "[encoded data removed]",
      "text/plain": [
       "<matplotlib.figure.Figure at 0x28c0873d780>"
      ]
     },
     "metadata": {},
     "output_type": "display_data"
    }
   ],
   "source": [
    "with open('AtletiFCB.json', 'r') as f:\n",
    "    count_all = Counter()\n",
    "    for line in f:\n",
    "        line = line.strip()\n",
    "        if line:\n",
    "            tweet = json.loads(line)\n",
    "            if 'text' in tweet:\n",
    "                tweet_text = tweet['text']\n",
    "                tokens = preprocess(tweet_text)\n",
    "\n",
    "                # Count hashtags and mentions only\n",
    "                terms_hash_mention = [term for term in tokens if term.startswith(('#', '@'))]\n",
    "                \n",
    "            # Update the counter\n",
    "                count_all.update(terms_hash_mention)\n",
    "    # Print the first 5 most frequent words\n",
    "    print(count_all.most_common(10))\n",
    "    \n",
    "\n",
    "import numpy as np\n",
    "import matplotlib.pyplot as plt\n",
    "\n",
    "data_bar = count_all.most_common(10)\n",
    "\n",
    "entities = []\n",
    "numbers = []\n",
    "\n",
    "\n",
    "for data in data_bar:\n",
    "    entities.append(data[0])\n",
    "    numbers.append(data[1])\n",
    "\n",
    "y_pos = np.arange(len(entities))\n",
    "\n",
    "# create a new figure\n",
    "plt.figure()\n",
    "# set up the bar chart\n",
    "plt.barh(y_pos, numbers, align='center')\n",
    "plt.yticks(y_pos, entities)\n",
    "plt.xlabel(\"number\")\n",
    "plt.title(\"top hashtags and mentions in tweets\")\n",
    "plt.figsize=(10,5)"
   ]
  },
  {
   "cell_type": "code",
   "execution_count": 135,
   "metadata": {
    "collapsed": false
   },
   "outputs": [
    {
     "name": "stdout",
     "output_type": "stream",
     "text": [
      "122\n",
      "{'coordinates': [-70.6479, -33.463], 'type': 'Point'}\n"
     ]
    }
   ],
   "source": [
    "\n",
    "j = 0\n",
    "geometry = []\n",
    "with open('AtletiFCB.json', 'r') as f:\n",
    "#     count_all = Counter()\n",
    "    for line in f:\n",
    "        line = line.strip()\n",
    "        if line:\n",
    "            tweet = json.loads(line)\n",
    "            if 'text' in tweet:\n",
    "                if tweet['coordinates']:\n",
    "                    geometry.append(tweet['coordinates'])\n",
    "                    j +=1\n",
    "                      \n",
    "print(j)\n",
    "print(geometry[0])\n",
    "\n",
    "\n",
    "\n",
    "#                 tweet_text = tweet['text']\n",
    "#                 tokens = preprocess(tweet_text)\n",
    "\n",
    "#                 # Count hashtags and mentions only\n",
    "#                 terms_hash_mention = [term for term in tokens if term.startswith(('#', '@'))]\n",
    "                \n",
    "#             # Update the counter\n",
    "#                 count_all.update(terms_hash_mention)\n",
    "#     # Print the first 5 most frequent words\n",
    "#     print(count_all.most_common(10))\n",
    "    \n"
   ]
  },
  {
   "cell_type": "code",
   "execution_count": 140,
   "metadata": {
    "collapsed": false
   },
   "outputs": [
    {
     "ename": "ImportError",
     "evalue": "No module named 'mpl_toolkits.basemap'",
     "output_type": "error",
     "traceback": [
      "\u001b[1;31m---------------------------------------------------------------------------\u001b[0m",
      "\u001b[1;31mImportError\u001b[0m                               Traceback (most recent call last)",
      "\u001b[1;32m<ipython-input-140-68e076eabacb>\u001b[0m in \u001b[0;36m<module>\u001b[1;34m()\u001b[0m\n\u001b[0;32m     11\u001b[0m \u001b[1;33m\u001b[0m\u001b[0m\n\u001b[0;32m     12\u001b[0m \u001b[1;31m# Import the basemap package\u001b[0m\u001b[1;33m\u001b[0m\u001b[1;33m\u001b[0m\u001b[0m\n\u001b[1;32m---> 13\u001b[1;33m \u001b[1;32mfrom\u001b[0m \u001b[0mmpl_toolkits\u001b[0m\u001b[1;33m.\u001b[0m\u001b[0mbasemap\u001b[0m \u001b[1;32mimport\u001b[0m \u001b[0mBasemap\u001b[0m\u001b[1;33m\u001b[0m\u001b[0m\n\u001b[0m\u001b[0;32m     14\u001b[0m \u001b[1;33m\u001b[0m\u001b[0m\n\u001b[0;32m     15\u001b[0m \u001b[1;31m# Create a map on which to draw.  We're using a mercator projection, and showing the whole world.\u001b[0m\u001b[1;33m\u001b[0m\u001b[1;33m\u001b[0m\u001b[0m\n",
      "\u001b[1;31mImportError\u001b[0m: No module named 'mpl_toolkits.basemap'"
     ]
    }
   ],
   "source": [
    "\n",
    "longitude = []\n",
    "latitude = []\n",
    "for coordinate in geometry:\n",
    "    longitude.append(coordinate['coordinates'][0])\n",
    "    latitude.append(coordinate['coordinates'][1])\n",
    "\n",
    "# print(longitude)    \n",
    "# print(latitude)    \n",
    "\n",
    "\n",
    "# Import the basemap package\n",
    "from mpl_toolkits.basemap import Basemap\n",
    "\n",
    "# Create a map on which to draw.  We're using a mercator projection, and showing the whole world.\n",
    "m = Basemap(projection='merc',llcrnrlat=-80,urcrnrlat=80,llcrnrlon=-180,urcrnrlon=180,lat_ts=20,resolution='c')\n",
    "# Draw coastlines, and the edges of the map.\n",
    "m.drawcoastlines()\n",
    "m.drawmapboundary()\n",
    "# Convert latitude and longitude to x and y coordinates\n",
    "x, y = m(list(longitude.astype(float)), list(latitude.astype(float)))\n",
    "# Use matplotlib to draw the points onto the map.\n",
    "m.scatter(x,y,1,marker='o',color='red')\n",
    "# Show the plot.\n",
    "plt.show()"
   ]
  },
  {
   "cell_type": "code",
   "execution_count": null,
   "metadata": {
    "collapsed": true
   },
   "outputs": [],
   "source": []
  }
 ],
 "metadata": {
  "kernelspec": {
   "display_name": "Python 3",
   "language": "python",
   "name": "python3"
  },
  "language_info": {
   "codemirror_mode": {
    "name": "ipython",
    "version": 3
   },
   "file_extension": ".py",
   "mimetype": "text/x-python",
   "name": "python",
   "nbconvert_exporter": "python",
   "pygments_lexer": "ipython3",
   "version": "3.5.1"
  }
 },
 "nbformat": 4,
 "nbformat_minor": 0
}
